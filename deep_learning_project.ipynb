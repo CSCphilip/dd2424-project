{
 "cells": [
  {
   "cell_type": "code",
   "execution_count": 67,
   "metadata": {
    "colab": {
     "base_uri": "https://localhost:8080/"
    },
    "id": "cNGCMrrCavX0",
    "outputId": "2be97c52-3626-4444-9956-7ea0fe582701"
   },
   "outputs": [
    {
     "name": "stdout",
     "output_type": "stream",
     "text": [
      "fatal: destination path 'dd2424-project' already exists and is not an empty directory.\n"
     ]
    }
   ],
   "source": [
    "!git clone https://github.com/CSCphilip/dd2424-project.git"
   ]
  },
  {
   "cell_type": "code",
   "execution_count": 68,
   "metadata": {
    "id": "hN6CrzA1NO8D"
   },
   "outputs": [],
   "source": [
    "import torch\n",
    "from torch.utils.data import DataLoader, Dataset\n",
    "import torch.nn as nn\n",
    "import torch.nn.functional as F\n",
    "\n",
    "import numpy as np\n",
    "import os\n",
    "import random\n",
    "import matplotlib.pyplot as plt"
   ]
  },
  {
   "cell_type": "code",
   "execution_count": 69,
   "metadata": {},
   "outputs": [
    {
     "name": "stdout",
     "output_type": "stream",
     "text": [
      "True\n",
      "0\n",
      "<torch.cuda.device object at 0x7f5a36dac110>\n",
      "1\n"
     ]
    },
    {
     "data": {
      "text/plain": [
       "'Tesla K80'"
      ]
     },
     "execution_count": 69,
     "metadata": {},
     "output_type": "execute_result"
    }
   ],
   "source": [
    "if torch.cuda.is_available():\n",
    "    device = torch.device('cuda:0')\n",
    "else:\n",
    "    device = \"cpu\""
   ]
  },
  {
   "cell_type": "code",
   "execution_count": 73,
   "metadata": {
    "colab": {
     "base_uri": "https://localhost:8080/"
    },
    "id": "Jc5NmqXeht5I",
    "outputId": "29dd8a73-21d2-45ca-e0a3-a717ed8d7a47"
   },
   "outputs": [
    {
     "name": "stdout",
     "output_type": "stream",
     "text": [
      "Shape of training data: (306, 64, 64, 3)\n",
      "Data type: <class 'numpy.ndarray'>\n",
      "<class 'numpy.float64'>\n",
      "Shape of training data: (331, 64, 64, 3)\n",
      "Data type: <class 'numpy.ndarray'>\n",
      "<class 'numpy.float64'>\n"
     ]
    }
   ],
   "source": [
    "# Loading data\n",
    "# https://towardsdatascience.com/beginners-guide-to-loading-image-data-with-pytorch-289c60b7afec\n",
    "\n",
    "def load_data(data_dir):\n",
    "    X_train = np.load(data_dir)\n",
    "    print(f\"Shape of training data: {X_train.shape}\")\n",
    "    print(f\"Data type: {type(X_train)}\")\n",
    "    print(type(X_train[0][0][0][0]))\n",
    "    return X_train\n",
    "\n",
    "# Create numpy arrays from npy files\n",
    "X_train_cage = load_data('cage.npy')\n",
    "X_train_trump = load_data('trump.npy')\n",
    "\n",
    "# Convert to range [0, 1]\n",
    "X_train_cage /= 255\n",
    "X_train_trump /= 255\n",
    "\n",
    "# Create array with both cage and trump images\n",
    "X_train_cage_trump = np.append(X_train_cage, X_train_trump, axis=0)\n",
    "\n",
    "# Normalize to make training easier\n",
    "means = np.mean(X_train_cage_trump, axis=(0, 1, 2))\n",
    "print(means)\n",
    "\n",
    "X_train_cage_trump -= means\n",
    "X_train_cage -= means\n",
    "X_train_trump -= means"
   ]
  },
  {
   "cell_type": "code",
   "execution_count": 76,
   "metadata": {
    "colab": {
     "base_uri": "https://localhost:8080/",
     "height": 281
    },
    "id": "tB7nEknuzkfp",
    "outputId": "eee9a844-ce7c-4716-c4f7-024273854148"
   },
   "outputs": [
    {
     "name": "stderr",
     "output_type": "stream",
     "text": [
      "Clipping input data to the valid range for imshow with RGB data ([0..1] for floats or [0..255] for integers).\n"
     ]
    },
    {
     "data": {
      "image/png": "[encoded data removed]",
      "text/plain": [
       "<Figure size 640x480 with 1 Axes>"
      ]
     },
     "metadata": {},
     "output_type": "display_data"
    }
   ],
   "source": [
    "# Display random image of cage for testing purposes\n",
    "random_image = random.randint(0, len(X_train_cage))\n",
    "img = X_train_cage[random_image]\n",
    "plt.imshow(img)\n",
    "plt.title(f\"Training example #{random_image}\")\n",
    "plt.axis('off')\n",
    "plt.show()"
   ]
  },
  {
   "cell_type": "code",
   "execution_count": 55,
   "metadata": {
    "colab": {
     "base_uri": "https://localhost:8080/",
     "height": 281
    },
    "id": "NY4aejyD1pNV",
    "outputId": "d5e660c4-3846-4eab-a71c-616ad6a4673e"
   },
   "outputs": [
    {
     "name": "stderr",
     "output_type": "stream",
     "text": [
      "Clipping input data to the valid range for imshow with RGB data ([0..1] for floats or [0..255] for integers).\n"
     ]
    },
    {
     "data": {
      "image/png": "[encoded data removed]",
      "text/plain": [
       "<Figure size 640x480 with 1 Axes>"
      ]
     },
     "metadata": {},
     "output_type": "display_data"
    }
   ],
   "source": [
    "# Display random image of trump for testing purposes\n",
    "random_image = random.randint(0, len(X_train_trump))\n",
    "img = X_train_trump[random_image]\n",
    "plt.imshow(img)\n",
    "plt.title(f\"Training example #{random_image}\")\n",
    "plt.axis('off')\n",
    "plt.show()"
   ]
  },
  {
   "cell_type": "code",
   "execution_count": 56,
   "metadata": {
    "id": "FddrAR8FOl0V"
   },
   "outputs": [],
   "source": [
    "class CustomImageDataset(Dataset):\n",
    "    def __init__(self, X):\n",
    "      self.X = X\n",
    "        \n",
    "    def __len__(self):\n",
    "      return len(self.X)\n",
    "\n",
    "    def __getitem__(self, index):\n",
    "        image = self.X[index]\n",
    "        return image"
   ]
  },
  {
   "cell_type": "code",
   "execution_count": 57,
   "metadata": {
    "id": "UGlY1l7E2BC-"
   },
   "outputs": [],
   "source": [
    "batch_size = 32\n",
    "\n",
    "X_train_cage = X_train_cage.astype(np.float32)\n",
    "X_train_trump = X_train_trump.astype(np.float32)\n",
    "X_train_cage_trump = X_train_cage.astype(np.float32)\n",
    "\n",
    "X_train_cage = torch.from_numpy(X_train_cage)\n",
    "X_train_trump = torch.from_numpy(X_train_trump)\n",
    "X_train_cage_trump = torch.from_numpy(X_train_cage_trump)\n",
    "\n",
    "X_train_cage = X_train_cage.to(device)\n",
    "X_train_trump = X_train_trump.to(device)\n",
    "\n",
    "cage_dataset = CustomImageDataset(X_train_cage)\n",
    "cage_dl = DataLoader(cage_dataset, batch_size, shuffle=True)\n",
    "\n",
    "trump_dataset = CustomImageDataset(X_train_trump)\n",
    "trump_dl = DataLoader(trump_dataset, batch_size, shuffle=True)\n",
    "\n",
    "#cage_trump_dataset = CustomImageDataset(X_train_cage_trump)\n",
    "#cage_trump_dl = DataLoader(cage_trump_dataset, batch_size, shuffle=True)"
   ]
  },
  {
   "cell_type": "code",
   "execution_count": 58,
   "metadata": {
    "id": "p-ezDTtSKYSo"
   },
   "outputs": [],
   "source": [
    "# The face swap model\n",
    "class AutoEncoder(nn.Module):\n",
    "  def __init__(self):\n",
    "    super(AutoEncoder, self).__init__()\n",
    "    self.encoder = nn.Sequential(\n",
    "      nn.Conv2d(3, 32, 4, stride=2),\n",
    "      nn.ReLU(),\n",
    "      nn.Conv2d(32, 32, 3, stride=1),\n",
    "      nn.ReLU(),\n",
    "      nn.Flatten(),\n",
    "      nn.Linear(in_features=32*29*29, out_features=1000),\n",
    "    )\n",
    "    self.decoder_cage = nn.Sequential(\n",
    "      nn.Linear(in_features=1000, out_features=32*29*29),\n",
    "      nn.ReLU(),\n",
    "      nn.Unflatten(1, (32, 29, 29)),\n",
    "      nn.ConvTranspose2d(32, 16, 4, stride=2),\n",
    "      nn.ReLU(),\n",
    "      nn.ConvTranspose2d(16, 8, 3, stride=1),\n",
    "      nn.ReLU(),\n",
    "      nn.ConvTranspose2d(8, 3, 3, stride=1),\n",
    "      nn.ReLU(),\n",
    "    )\n",
    "    self.decoder_trump = nn.Sequential(\n",
    "      nn.Linear(in_features=1000, out_features=32*29*29),\n",
    "      nn.ReLU(),\n",
    "      nn.Unflatten(1, (32, 29, 29)),\n",
    "      nn.ConvTranspose2d(32, 16, 4, stride=2),\n",
    "      nn.ReLU(),\n",
    "      nn.ConvTranspose2d(16, 8, 3, stride=1),\n",
    "      nn.ReLU(),\n",
    "      nn.ConvTranspose2d(8, 3, 3, stride=1),\n",
    "      nn.ReLU(),\n",
    "    )\n",
    "\n",
    "  def forward(self, x, y):\n",
    "    x = x.permute(0, 3, 1, 2)\n",
    "    x = self.encoder(x)\n",
    "    if y == 0:\n",
    "      x = self.decoder_cage(x)\n",
    "    else: \n",
    "      x = self.decoder_trump(x)\n",
    "    x = x.permute(0, 2, 3, 1)\n",
    "    return x"
   ]
  },
  {
   "cell_type": "code",
   "execution_count": 59,
   "metadata": {
    "id": "Rv84kMl7MLbw"
   },
   "outputs": [],
   "source": [
    "ae = AutoEncoder().to(device)\n",
    "for X in cage_dl:\n",
    "\n",
    "  res = ae(X,1)\n",
    "  break"
   ]
  },
  {
   "cell_type": "code",
   "execution_count": 60,
   "metadata": {
    "id": "9707qzphDcXx"
   },
   "outputs": [],
   "source": [
    "learning_rate = 3e-5\n",
    "epochs = 100\n",
    "\n",
    "loss_fn = torch.nn.MSELoss()\n",
    "optimizer_1 = torch.optim.Adam([{'params': ae.encoder.parameters()},\n",
    "                          {'params': ae.decoder_cage.parameters()}], lr=learning_rate, betas=(0.4, 0.999))\n",
    "optimizer_2 = torch.optim.Adam([{'params': ae.encoder.parameters()},\n",
    "                          {'params': ae.decoder_trump.parameters()}], lr=learning_rate, betas=(0.4, 0.999))"
   ]
  },
  {
   "cell_type": "code",
   "execution_count": 61,
   "metadata": {
    "id": "CaH0kPaVJ9Se"
   },
   "outputs": [],
   "source": [
    "def train_loop(dataloader_cage, dataloader_trump, model, loss_fn, optimizer_1, optimizer_2):\n",
    "  cage_iterator = iter(dataloader_cage)\n",
    "  trump_iterator = iter(dataloader_trump)\n",
    "  while True:\n",
    "    try:\n",
    "      cage_batch = next(cage_iterator)\n",
    "      trump_batch = next(trump_iterator)\n",
    "    except StopIteration:\n",
    "      return loss\n",
    "    #Forward\n",
    "    cage_out = model(cage_batch, 0)\n",
    "    trump_out = model(trump_batch, 1)\n",
    "    \n",
    "    loss_1 = loss_fn(cage_out, cage_batch)\n",
    "    loss_2 = loss_fn(trump_out, trump_batch)\n",
    "    loss = loss_1.item() + loss_2.item()\n",
    "          \n",
    "    #Backward\n",
    "    optimizer_1.zero_grad()\n",
    "    optimizer_2.zero_grad()\n",
    "    loss_1.backward()\n",
    "    loss_2.backward()\n",
    "    optimizer_1.step()\n",
    "    optimizer_2.step()\n"
   ]
  },
  {
   "cell_type": "code",
   "execution_count": 62,
   "metadata": {
    "colab": {
     "base_uri": "https://localhost:8080/"
    },
    "id": "2W5PGSKuZWpR",
    "outputId": "2688e1d3-59ee-4fe5-e89e-ad21ff7b6866"
   },
   "outputs": [
    {
     "name": "stdout",
     "output_type": "stream",
     "text": [
      "Epoch 1\n",
      "-------------------------------\n",
      "loss: 0.124225\n",
      "Epoch 2\n",
      "-------------------------------\n",
      "loss: 0.116791\n",
      "Epoch 3\n",
      "-------------------------------\n",
      "loss: 0.116659\n",
      "Epoch 4\n",
      "-------------------------------\n",
      "loss: 0.118696\n",
      "Epoch 5\n",
      "-------------------------------\n",
      "loss: 0.109443\n",
      "Epoch 6\n",
      "-------------------------------\n",
      "loss: 0.099428\n",
      "Epoch 7\n",
      "-------------------------------\n",
      "loss: 0.103708\n",
      "Epoch 8\n",
      "-------------------------------\n",
      "loss: 0.105542\n",
      "Epoch 9\n",
      "-------------------------------\n",
      "loss: 0.100934\n",
      "Epoch 10\n",
      "-------------------------------\n",
      "loss: 0.093930\n",
      "Epoch 11\n",
      "-------------------------------\n",
      "loss: 0.092682\n",
      "Epoch 12\n",
      "-------------------------------\n",
      "loss: 0.106574\n",
      "Epoch 13\n",
      "-------------------------------\n",
      "loss: 0.100081\n",
      "Epoch 14\n",
      "-------------------------------\n",
      "loss: 0.087346\n",
      "Epoch 15\n",
      "-------------------------------\n",
      "loss: 0.099426\n",
      "Epoch 16\n",
      "-------------------------------\n",
      "loss: 0.100181\n",
      "Epoch 17\n",
      "-------------------------------\n",
      "loss: 0.091945\n",
      "Epoch 18\n",
      "-------------------------------\n",
      "loss: 0.104537\n",
      "Epoch 19\n",
      "-------------------------------\n",
      "loss: 0.095970\n",
      "Epoch 20\n",
      "-------------------------------\n",
      "loss: 0.094770\n",
      "Epoch 21\n",
      "-------------------------------\n",
      "loss: 0.102445\n",
      "Epoch 22\n",
      "-------------------------------\n",
      "loss: 0.081385\n",
      "Epoch 23\n",
      "-------------------------------\n",
      "loss: 0.098953\n",
      "Epoch 24\n",
      "-------------------------------\n",
      "loss: 0.094408\n",
      "Epoch 25\n",
      "-------------------------------\n",
      "loss: 0.087820\n",
      "Epoch 26\n",
      "-------------------------------\n",
      "loss: 0.096298\n",
      "Epoch 27\n",
      "-------------------------------\n",
      "loss: 0.094190\n",
      "Epoch 28\n",
      "-------------------------------\n",
      "loss: 0.082300\n",
      "Epoch 29\n",
      "-------------------------------\n",
      "loss: 0.082896\n",
      "Epoch 30\n",
      "-------------------------------\n",
      "loss: 0.089130\n",
      "Epoch 31\n",
      "-------------------------------\n",
      "loss: 0.088199\n",
      "Epoch 32\n",
      "-------------------------------\n",
      "loss: 0.081709\n",
      "Epoch 33\n",
      "-------------------------------\n",
      "loss: 0.097467\n",
      "Epoch 34\n",
      "-------------------------------\n",
      "loss: 0.092559\n",
      "Epoch 35\n",
      "-------------------------------\n",
      "loss: 0.102674\n",
      "Epoch 36\n",
      "-------------------------------\n",
      "loss: 0.093147\n",
      "Epoch 37\n",
      "-------------------------------\n",
      "loss: 0.082531\n",
      "Epoch 38\n",
      "-------------------------------\n",
      "loss: 0.089985\n",
      "Epoch 39\n",
      "-------------------------------\n",
      "loss: 0.084007\n",
      "Epoch 40\n",
      "-------------------------------\n",
      "loss: 0.092584\n",
      "Epoch 41\n",
      "-------------------------------\n",
      "loss: 0.091493\n",
      "Epoch 42\n",
      "-------------------------------\n",
      "loss: 0.079846\n",
      "Epoch 43\n",
      "-------------------------------\n",
      "loss: 0.082285\n",
      "Epoch 44\n",
      "-------------------------------\n",
      "loss: 0.094615\n",
      "Epoch 45\n",
      "-------------------------------\n",
      "loss: 0.079869\n",
      "Epoch 46\n",
      "-------------------------------\n",
      "loss: 0.082185\n",
      "Epoch 47\n",
      "-------------------------------\n",
      "loss: 0.102744\n",
      "Epoch 48\n",
      "-------------------------------\n",
      "loss: 0.078280\n",
      "Epoch 49\n",
      "-------------------------------\n",
      "loss: 0.087932\n",
      "Epoch 50\n",
      "-------------------------------\n",
      "loss: 0.089289\n",
      "Epoch 51\n",
      "-------------------------------\n",
      "loss: 0.083855\n",
      "Epoch 52\n",
      "-------------------------------\n",
      "loss: 0.075959\n",
      "Epoch 53\n",
      "-------------------------------\n",
      "loss: 0.089964\n",
      "Epoch 54\n",
      "-------------------------------\n",
      "loss: 0.088440\n",
      "Epoch 55\n",
      "-------------------------------\n",
      "loss: 0.090937\n",
      "Epoch 56\n",
      "-------------------------------\n",
      "loss: 0.076903\n",
      "Epoch 57\n",
      "-------------------------------\n",
      "loss: 0.079925\n",
      "Epoch 58\n",
      "-------------------------------\n",
      "loss: 0.083774\n",
      "Epoch 59\n",
      "-------------------------------\n",
      "loss: 0.077717\n",
      "Epoch 60\n",
      "-------------------------------\n",
      "loss: 0.082034\n",
      "Epoch 61\n",
      "-------------------------------\n",
      "loss: 0.082120\n",
      "Epoch 62\n",
      "-------------------------------\n",
      "loss: 0.081392\n",
      "Epoch 63\n",
      "-------------------------------\n",
      "loss: 0.084777\n",
      "Epoch 64\n",
      "-------------------------------\n",
      "loss: 0.080890\n",
      "Epoch 65\n",
      "-------------------------------\n",
      "loss: 0.079678\n",
      "Epoch 66\n",
      "-------------------------------\n",
      "loss: 0.076838\n",
      "Epoch 67\n",
      "-------------------------------\n",
      "loss: 0.078875\n",
      "Epoch 68\n",
      "-------------------------------\n",
      "loss: 0.077941\n",
      "Epoch 69\n",
      "-------------------------------\n",
      "loss: 0.078535\n",
      "Epoch 70\n",
      "-------------------------------\n",
      "loss: 0.078186\n",
      "Epoch 71\n",
      "-------------------------------\n",
      "loss: 0.073363\n",
      "Epoch 72\n",
      "-------------------------------\n",
      "loss: 0.082122\n",
      "Epoch 73\n",
      "-------------------------------\n",
      "loss: 0.078414\n",
      "Epoch 74\n",
      "-------------------------------\n",
      "loss: 0.071959\n",
      "Epoch 75\n",
      "-------------------------------\n",
      "loss: 0.075818\n",
      "Epoch 76\n",
      "-------------------------------\n",
      "loss: 0.079905\n",
      "Epoch 77\n",
      "-------------------------------\n",
      "loss: 0.076059\n",
      "Epoch 78\n",
      "-------------------------------\n",
      "loss: 0.075210\n",
      "Epoch 79\n",
      "-------------------------------\n",
      "loss: 0.080692\n",
      "Epoch 80\n",
      "-------------------------------\n",
      "loss: 0.078151\n",
      "Epoch 81\n",
      "-------------------------------\n",
      "loss: 0.081105\n",
      "Epoch 82\n",
      "-------------------------------\n",
      "loss: 0.071911\n",
      "Epoch 83\n",
      "-------------------------------\n",
      "loss: 0.081798\n",
      "Epoch 84\n",
      "-------------------------------\n",
      "loss: 0.081174\n",
      "Epoch 85\n",
      "-------------------------------\n",
      "loss: 0.077353\n",
      "Epoch 86\n",
      "-------------------------------\n",
      "loss: 0.083441\n",
      "Epoch 87\n",
      "-------------------------------\n",
      "loss: 0.072805\n",
      "Epoch 88\n",
      "-------------------------------\n",
      "loss: 0.079050\n",
      "Epoch 89\n",
      "-------------------------------\n",
      "loss: 0.078229\n",
      "Epoch 90\n",
      "-------------------------------\n",
      "loss: 0.077797\n",
      "Epoch 91\n",
      "-------------------------------\n",
      "loss: 0.070537\n",
      "Epoch 92\n",
      "-------------------------------\n",
      "loss: 0.080311\n",
      "Epoch 93\n",
      "-------------------------------\n",
      "loss: 0.078832\n",
      "Epoch 94\n",
      "-------------------------------\n",
      "loss: 0.075964\n",
      "Epoch 95\n",
      "-------------------------------\n",
      "loss: 0.063330\n",
      "Epoch 96\n",
      "-------------------------------\n",
      "loss: 0.062445\n",
      "Epoch 97\n",
      "-------------------------------\n",
      "loss: 0.085550\n",
      "Epoch 98\n",
      "-------------------------------\n",
      "loss: 0.084014\n",
      "Epoch 99\n",
      "-------------------------------\n",
      "loss: 0.079776\n",
      "Epoch 100\n",
      "-------------------------------\n",
      "loss: 0.077174\n",
      "Done!\n"
     ]
    }
   ],
   "source": [
    "for t in range(epochs):\n",
    "    print(f\"Epoch {t+1}\\n-------------------------------\")\n",
    "    loss = train_loop(cage_dl, trump_dl, ae, loss_fn, optimizer_1, optimizer_2)\n",
    "    print(f\"loss: {loss:>7f}\")\n",
    "print(\"Done!\")"
   ]
  },
  {
   "cell_type": "code",
   "execution_count": 65,
   "metadata": {
    "colab": {
     "base_uri": "https://localhost:8080/",
     "height": 528
    },
    "id": "HHkxx5TDZ_8e",
    "outputId": "a9887a3a-4fa4-4983-b1a0-167d3a5e2e47"
   },
   "outputs": [
    {
     "name": "stderr",
     "output_type": "stream",
     "text": [
      "Clipping input data to the valid range for imshow with RGB data ([0..1] for floats or [0..255] for integers).\n"
     ]
    },
    {
     "data": {
      "image/png": "[encoded data removed]",
      "text/plain": [
       "<Figure size 640x480 with 1 Axes>"
      ]
     },
     "metadata": {},
     "output_type": "display_data"
    },
    {
     "data": {
      "image/png": "[encoded data removed]",
      "text/plain": [
       "<Figure size 640x480 with 1 Axes>"
      ]
     },
     "metadata": {},
     "output_type": "display_data"
    }
   ],
   "source": [
    "# Test image rendition\n",
    "# Display random image of cage\n",
    "random_image = random.randint(0, len(X_train_cage))\n",
    "img = X_train_cage[random_image]\n",
    "#img += torch.from_numpy(means).to(device)\n",
    "img_tensor = img.unsqueeze(0)\n",
    "res = ae(img_tensor, 1)\n",
    "res = res[0]\n",
    "res = res.cpu().detach().numpy()\n",
    "plt.imshow(img.cpu())\n",
    "plt.title(f\"Training example #{random_image}\")\n",
    "plt.axis('off')\n",
    "plt.show()\n",
    "\n",
    "plt.imshow(res)\n",
    "plt.title(f\"From model #{random_image}\")\n",
    "plt.axis('off')\n",
    "plt.show()"
   ]
  }
 ],
 "metadata": {
  "colab": {
   "collapsed_sections": [],
   "name": "deep_learning_project.ipynb",
   "provenance": []
  },
  "environment": {
   "name": "pytorch-gpu.1-8.m68",
   "type": "gcloud",
   "uri": "gcr.io/deeplearning-platform-release/pytorch-gpu.1-8:m68"
  },
  "kernelspec": {
   "display_name": "Python 3",
   "language": "python",
   "name": "python3"
  },
  "language_info": {
   "codemirror_mode": {
    "name": "ipython",
    "version": 3
   },
   "file_extension": ".py",
   "mimetype": "text/x-python",
   "name": "python",
   "nbconvert_exporter": "python",
   "pygments_lexer": "ipython3",
   "version": "3.7.10"
  }
 },
 "nbformat": 4,
 "nbformat_minor": 4
}
